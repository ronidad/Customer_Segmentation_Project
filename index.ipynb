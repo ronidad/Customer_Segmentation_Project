{
 "cells": [
  {
   "cell_type": "code",
   "execution_count": 31,
   "source": [
    "from functions import *"
   ],
   "outputs": [
    {
     "output_type": "stream",
     "name": "stdout",
     "text": [
      "this is test\n"
     ]
    }
   ],
   "metadata": {}
  },
  {
   "cell_type": "markdown",
   "source": [
    "# Drug abuse in Africa"
   ],
   "metadata": {}
  },
  {
   "cell_type": "markdown",
   "source": [
    "# 1. Data understanding\r\n"
   ],
   "metadata": {}
  },
  {
   "cell_type": "markdown",
   "source": [
    "## Defining the metric for success\r\n",
    "* Our metric for success is actually finding the relationship between drug/substance abuse and mentall illness cases in Africa. \r\n"
   ],
   "metadata": {}
  },
  {
   "cell_type": "code",

   "source": [
    "#Importing the libraries for analysis\r\n",
    "import pandas as pd\r\n",

   ],
   "outputs": [
    {
     "output_type": "execute_result",
     "data": {
      "text/html": [
       "<div>\n",
       "<style scoped>\n",
       "    .dataframe tbody tr th:only-of-type {\n",
       "        vertical-align: middle;\n",
       "    }\n",
       "\n",
       "    .dataframe tbody tr th {\n",
       "        vertical-align: top;\n",
       "    }\n",
       "\n",
       "    .dataframe thead th {\n",
       "        text-align: right;\n",
       "    }\n",
       "</style>\n",
       "<table border=\"1\" class=\"dataframe\">\n",
       "  <thead>\n",
       "    <tr style=\"text-align: right;\">\n",
       "      <th></th>\n",
       "      <th>Entity</th>\n",
       "      <th>Code</th>\n",
       "      <th>Year</th>\n",
       "      <th>Prevalence - Depressive disorders - Sex: Male - Age: Age-standardized (Percent)</th>\n",
       "      <th>Prevalence - Depressive disorders - Sex: Female - Age: Age-standardized (Percent)</th>\n",
       "      <th>Total population (Gapminder, HYDE &amp; UN)</th>\n",
       "      <th>Continent</th>\n",
       "    </tr>\n",
       "  </thead>\n",
       "  <tbody>\n",
       "    <tr>\n",
       "      <th>0</th>\n",
       "      <td>Abkhazia</td>\n",
       "      <td>OWID_ABK</td>\n",
       "      <td>2015</td>\n",
       "      <td>NaN</td>\n",
       "      <td>NaN</td>\n",
       "      <td>NaN</td>\n",
       "      <td>Asia</td>\n",
       "    </tr>\n",
       "    <tr>\n",
       "      <th>1</th>\n",
       "      <td>Afghanistan</td>\n",
       "      <td>AFG</td>\n",
       "      <td>1990</td>\n",
       "      <td>3.499982</td>\n",
       "      <td>4.647815</td>\n",
       "      <td>12412311.0</td>\n",
       "      <td>NaN</td>\n",
       "    </tr>\n",
       "    <tr>\n",
       "      <th>2</th>\n",
       "      <td>Afghanistan</td>\n",
       "      <td>AFG</td>\n",
       "      <td>1991</td>\n",
       "      <td>3.503947</td>\n",
       "      <td>4.655772</td>\n",
       "      <td>13299016.0</td>\n",
       "      <td>NaN</td>\n",
       "    </tr>\n",
       "    <tr>\n",
       "      <th>3</th>\n",
       "      <td>Afghanistan</td>\n",
       "      <td>AFG</td>\n",
       "      <td>1992</td>\n",
       "      <td>3.508912</td>\n",
       "      <td>4.662066</td>\n",
       "      <td>14485543.0</td>\n",
       "      <td>NaN</td>\n",
       "    </tr>\n",
       "    <tr>\n",
       "      <th>4</th>\n",
       "      <td>Afghanistan</td>\n",
       "      <td>AFG</td>\n",
       "      <td>1993</td>\n",
       "      <td>3.513429</td>\n",
       "      <td>4.669012</td>\n",
       "      <td>15816601.0</td>\n",
       "      <td>NaN</td>\n",
       "    </tr>\n",
       "    <tr>\n",
       "      <th>...</th>\n",
       "      <td>...</td>\n",
       "      <td>...</td>\n",
       "      <td>...</td>\n",
       "      <td>...</td>\n",
       "      <td>...</td>\n",
       "      <td>...</td>\n",
       "      <td>...</td>\n",
       "    </tr>\n",
       "    <tr>\n",
       "      <th>54411</th>\n",
       "      <td>Zimbabwe</td>\n",
       "      <td>ZWE</td>\n",
       "      <td>2018</td>\n",
       "      <td>NaN</td>\n",
       "      <td>NaN</td>\n",
       "      <td>14438812.0</td>\n",
       "      <td>NaN</td>\n",
       "    </tr>\n",
       "    <tr>\n",
       "      <th>54412</th>\n",
       "      <td>Zimbabwe</td>\n",
       "      <td>ZWE</td>\n",
       "      <td>2019</td>\n",
       "      <td>NaN</td>\n",
       "      <td>NaN</td>\n",
       "      <td>14645473.0</td>\n",
       "      <td>NaN</td>\n",
       "    </tr>\n",
       "    <tr>\n",
       "      <th>54413</th>\n",
       "      <td>Zimbabwe</td>\n",
       "      <td>ZWE</td>\n",
       "      <td>2020</td>\n",
       "      <td>NaN</td>\n",
       "      <td>NaN</td>\n",
       "      <td>14862927.0</td>\n",
       "      <td>NaN</td>\n",
       "    </tr>\n",
       "    <tr>\n",
       "      <th>54414</th>\n",
       "      <td>Zimbabwe</td>\n",
       "      <td>ZWE</td>\n",
       "      <td>2021</td>\n",
       "      <td>NaN</td>\n",
       "      <td>NaN</td>\n",
       "      <td>15092171.0</td>\n",
       "      <td>NaN</td>\n",
       "    </tr>\n",
       "    <tr>\n",
       "      <th>54415</th>\n",
       "      <td>Åland Islands</td>\n",
       "      <td>ALA</td>\n",
       "      <td>2015</td>\n",
       "      <td>NaN</td>\n",
       "      <td>NaN</td>\n",
       "      <td>NaN</td>\n",
       "      <td>Europe</td>\n",
       "    </tr>\n",
       "  </tbody>\n",
       "</table>\n",
       "<p>54416 rows × 7 columns</p>\n",
       "</div>"
      ],
      "text/plain": [
       "              Entity      Code  Year  \\\n",
       "0           Abkhazia  OWID_ABK  2015   \n",
       "1        Afghanistan       AFG  1990   \n",
       "2        Afghanistan       AFG  1991   \n",
       "3        Afghanistan       AFG  1992   \n",
       "4        Afghanistan       AFG  1993   \n",
       "...              ...       ...   ...   \n",
       "54411       Zimbabwe       ZWE  2018   \n",
       "54412       Zimbabwe       ZWE  2019   \n",
       "54413       Zimbabwe       ZWE  2020   \n",
       "54414       Zimbabwe       ZWE  2021   \n",
       "54415  Åland Islands       ALA  2015   \n",
       "\n",
       "       Prevalence - Depressive disorders - Sex: Male - Age: Age-standardized (Percent)  \\\n",
       "0                                                    NaN                                 \n",
       "1                                               3.499982                                 \n",
       "2                                               3.503947                                 \n",
       "3                                               3.508912                                 \n",
       "4                                               3.513429                                 \n",
       "...                                                  ...                                 \n",
       "54411                                                NaN                                 \n",
       "54412                                                NaN                                 \n",
       "54413                                                NaN                                 \n",
       "54414                                                NaN                                 \n",
       "54415                                                NaN                                 \n",
       "\n",
       "       Prevalence - Depressive disorders - Sex: Female - Age: Age-standardized (Percent)  \\\n",
       "0                                                    NaN                                   \n",
       "1                                               4.647815                                   \n",
       "2                                               4.655772                                   \n",
       "3                                               4.662066                                   \n",
       "4                                               4.669012                                   \n",
       "...                                                  ...                                   \n",
       "54411                                                NaN                                   \n",
       "54412                                                NaN                                   \n",
       "54413                                                NaN                                   \n",
       "54414                                                NaN                                   \n",
       "54415                                                NaN                                   \n",
       "\n",
       "       Total population (Gapminder, HYDE & UN) Continent  \n",
       "0                                          NaN      Asia  \n",
       "1                                   12412311.0       NaN  \n",
       "2                                   13299016.0       NaN  \n",
       "3                                   14485543.0       NaN  \n",
       "4                                   15816601.0       NaN  \n",
       "...                                        ...       ...  \n",
       "54411                               14438812.0       NaN  \n",
       "54412                               14645473.0       NaN  \n",
       "54413                               14862927.0       NaN  \n",
       "54414                               15092171.0       NaN  \n",
       "54415                                      NaN    Europe  \n",
       "\n",
       "[54416 rows x 7 columns]"
      ]
     },
     "metadata": {},
     "execution_count": 43
    }
   ],
   "metadata": {}
  },
  {
   "cell_type": "code",
   "execution_count": 52,
   "source": [
    "#Function to check the properies of the dataset.\r\n",
    "def properties(data):\r\n",
    "    shape=data.shape\r\n",
    "    # missing=data.isnull().any()\r\n",
    "    # duplicates=data.duplicated()\r\n",
    "    return shape\r\n"
   ],
   "outputs": [],
   "metadata": {}
  },
  {
   "cell_type": "code",
   "execution_count": 53,
   "source": [
    "properties(df1)"
   ],
   "outputs": [
    {
     "output_type": "execute_result",
     "data": {
      "text/plain": [
       "(5, 6)"
      ]
     },
     "metadata": {},

    }
   ],
   "metadata": {}
  },
  {
   "cell_type": "markdown",
   "source": [],
   "metadata": {}
  },
  {
   "cell_type": "markdown",
   "source": [
    "## Hypothesis"
   ],
   "metadata": {}
  },
  {
   "cell_type": "markdown",
   "source": [],
   "metadata": {}
  },
  {
   "cell_type": "markdown",
   "source": [
    "## Data understanding"
   ],
   "metadata": {}
  },
  {
   "cell_type": "markdown",
   "source": [],
   "metadata": {}
  },
  {
   "cell_type": "markdown",
   "source": [
    "## Business understanding"
   ],
   "metadata": {}
  },
  {
   "cell_type": "markdown",
   "source": [],
   "metadata": {}
  },
  {
   "cell_type": "markdown",
   "source": [
    "## Data preparation"
   ],
   "metadata": {}
  },
  {
   "cell_type": "markdown",
   "source": [],
   "metadata": {}
  },
  {
   "cell_type": "markdown",
   "source": [
    "## Evaluation"
   ],
   "metadata": {}
  },
  {
   "cell_type": "markdown",
   "source": [
    "## Modeling"
   ],
   "metadata": {}
  },
  {
   "cell_type": "markdown",
   "source": [],
   "metadata": {}
  },
  {
   "cell_type": "markdown",
   "source": [
    "## Deployment"
   ],
   "metadata": {}
  },
  {
   "cell_type": "markdown",
   "source": [],
   "metadata": {}
  }
 ],
 "metadata": {
  "orig_nbformat": 4,
  "language_info": {
   "name": "python",
   "version": "3.8.5",
   "mimetype": "text/x-python",
   "codemirror_mode": {
    "name": "ipython",
    "version": 3
   },
   "pygments_lexer": "ipython3",
   "nbconvert_exporter": "python",
   "file_extension": ".py"
  },
  "kernelspec": {
   "name": "python3",
   "display_name": "Python 3.8.5 64-bit ('base': conda)"
  },
  "interpreter": {
   "hash": "8e24f623c9d976e65e43b538ecbbc4d478524c94015e92b14b460358aba5245a"
  }
 },
 "nbformat": 4,
 "nbformat_minor": 2
}